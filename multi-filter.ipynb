{
 "cells": [
  {
   "cell_type": "code",
   "execution_count": 4,
   "id": "63fac8b3",
   "metadata": {},
   "outputs": [],
   "source": [
    "from functools import reduce\n",
    "import operator"
   ]
  },
  {
   "cell_type": "code",
   "execution_count": 6,
   "id": "babba024",
   "metadata": {},
   "outputs": [],
   "source": [
    "from pyspark.sql import SparkSession\n",
    "from pyspark.sql.functions import *\n",
    "\n",
    "spark = SparkSession.builder.getOrCreate()"
   ]
  },
  {
   "cell_type": "code",
   "execution_count": 10,
   "id": "2c118fcd",
   "metadata": {},
   "outputs": [],
   "source": [
    "df = spark.read.option('header','true').csv(r'C:\\\\users\\102222\\Downloads\\hmm.csv')"
   ]
  },
  {
   "cell_type": "code",
   "execution_count": 23,
   "id": "b166d255",
   "metadata": {},
   "outputs": [
    {
     "name": "stdout",
     "output_type": "stream",
     "text": [
      "+-------------------+--------+--------+--------+--------+------+\n",
      "|          timestamp|    open|    high|     low|   close|volume|\n",
      "+-------------------+--------+--------+--------+--------+------+\n",
      "|2022-06-03 20:00:00|141.4700|141.4700|141.3500|141.3500|   904|\n",
      "|2022-06-03 19:55:00|141.5000|141.5000|141.5000|141.5000|   509|\n",
      "|2022-06-03 19:15:00|141.6500|141.6500|141.4700|141.4700|  1000|\n",
      "|2022-06-03 19:00:00|141.5900|141.5900|141.5900|141.5900|   200|\n",
      "|2022-06-03 18:35:00|141.7000|141.7000|141.7000|141.7000|   100|\n",
      "+-------------------+--------+--------+--------+--------+------+\n",
      "only showing top 5 rows\n",
      "\n"
     ]
    }
   ],
   "source": [
    "df.show(5)"
   ]
  },
  {
   "cell_type": "code",
   "execution_count": 21,
   "id": "14559086",
   "metadata": {},
   "outputs": [
    {
     "data": {
      "text/plain": [
       "2"
      ]
     },
     "execution_count": 21,
     "metadata": {},
     "output_type": "execute_result"
    }
   ],
   "source": [
    "df.filter((col('open')>140)&(col('volume')<300)).count()"
   ]
  },
  {
   "cell_type": "code",
   "execution_count": 22,
   "id": "e33b252a",
   "metadata": {},
   "outputs": [
    {
     "data": {
      "text/plain": [
       "64"
      ]
     },
     "execution_count": 22,
     "metadata": {},
     "output_type": "execute_result"
    }
   ],
   "source": [
    "df.filter((col('open')>140)|(col('volume')<300)).count()"
   ]
  },
  {
   "cell_type": "code",
   "execution_count": 24,
   "id": "c6e4fea5",
   "metadata": {},
   "outputs": [],
   "source": [
    "data = {\n",
    "    'filter' : [\n",
    "        {\n",
    "            'name' : 'open',\n",
    "            'comparisonType' : '>',\n",
    "            'value' : 140\n",
    "        },\n",
    "        {\n",
    "            'name' : 'volume',\n",
    "            'comparisonType' : '<',\n",
    "            'value' : 300\n",
    "        }\n",
    "    ],\n",
    "    'matchAll' : True\n",
    "}"
   ]
  },
  {
   "cell_type": "code",
   "execution_count": 47,
   "id": "59e49c32",
   "metadata": {},
   "outputs": [],
   "source": [
    "values = {\n",
    "    '>' : operator.gt,\n",
    "    '<' : operator.lt\n",
    "}\n",
    "\n",
    "def getFunc(func,column,value):\n",
    "    return func(column,value)"
   ]
  },
  {
   "cell_type": "code",
   "execution_count": 48,
   "id": "6462fa7d",
   "metadata": {},
   "outputs": [],
   "source": [
    "filters = []\n",
    "for filter_col in data['filter']:\n",
    "    filters.append(getFunc(values.get(filter_col.get('comparisonType')),col(filter_col.get('name')),filter_col.get('value')))"
   ]
  },
  {
   "cell_type": "code",
   "execution_count": 49,
   "id": "94620774",
   "metadata": {},
   "outputs": [
    {
     "data": {
      "text/plain": [
       "[Column<'(open > 140)'>, Column<'(volume < 300)'>]"
      ]
     },
     "execution_count": 49,
     "metadata": {},
     "output_type": "execute_result"
    }
   ],
   "source": [
    "list(\n",
    "map(\n",
    "lambda col_name : getFunc(values.get(col_name.get('comparisonType')),col(col_name.get('name')),col_name.get('value')),data['filter']\n",
    ")\n",
    ")"
   ]
  },
  {
   "cell_type": "code",
   "execution_count": 51,
   "id": "bc6039c9",
   "metadata": {},
   "outputs": [],
   "source": [
    "if data['matchAll']:\n",
    "    filt = reduce(operator.and_,filters)"
   ]
  },
  {
   "cell_type": "code",
   "execution_count": 54,
   "id": "1dca4ca9",
   "metadata": {},
   "outputs": [
    {
     "name": "stdout",
     "output_type": "stream",
     "text": [
      "+-------------------+--------+--------+--------+--------+------+\n",
      "|          timestamp|    open|    high|     low|   close|volume|\n",
      "+-------------------+--------+--------+--------+--------+------+\n",
      "|2022-06-03 19:00:00|141.5900|141.5900|141.5900|141.5900|   200|\n",
      "|2022-06-03 18:35:00|141.7000|141.7000|141.7000|141.7000|   100|\n",
      "+-------------------+--------+--------+--------+--------+------+\n",
      "\n"
     ]
    }
   ],
   "source": [
    "df.filter(filt).show()"
   ]
  },
  {
   "cell_type": "code",
   "execution_count": 58,
   "id": "7fa35e93",
   "metadata": {},
   "outputs": [],
   "source": [
    "from typing import Dict\n",
    "\n",
    "operator_dict = {\n",
    "    '>' : operator.gt,\n",
    "    '<' : operator.lt\n",
    "}\n",
    "\n",
    "\n",
    "def MutliFilters(data: Dict):\n",
    "    def __operatorFunc(op, column, value):\n",
    "        return op(column, value)\n",
    "\n",
    "    filters = list(\n",
    "        map(\n",
    "            lambda col_name: __operatorFunc(\n",
    "                operator_dict.get(col_name.get(\"comparisonType\")),\n",
    "                col(col_name.get(\"name\")),\n",
    "                col_name.get(\"value\"),\n",
    "            ),\n",
    "            data[\"filter\"],\n",
    "        )\n",
    "    )\n",
    "    if data.get(\"matchAll\"):\n",
    "        return reduce(operator.and_, filters)\n",
    "    else:\n",
    "        return reduce(operator.or_, filters)"
   ]
  },
  {
   "cell_type": "code",
   "execution_count": 60,
   "id": "e727f7f5",
   "metadata": {},
   "outputs": [],
   "source": [
    "data_and = {\n",
    "    'filter' : [\n",
    "        {\n",
    "            'name' : 'open',\n",
    "            'comparisonType' : '>',\n",
    "            'value' : 140\n",
    "        },\n",
    "        {\n",
    "            'name' : 'volume',\n",
    "            'comparisonType' : '<',\n",
    "            'value' : 300\n",
    "        }\n",
    "    ],\n",
    "    'matchAll' : True\n",
    "}"
   ]
  },
  {
   "cell_type": "code",
   "execution_count": 70,
   "id": "cfd1ccd3",
   "metadata": {},
   "outputs": [
    {
     "data": {
      "text/plain": [
       "2"
      ]
     },
     "execution_count": 70,
     "metadata": {},
     "output_type": "execute_result"
    }
   ],
   "source": [
    "df.filter(MutliFilters(data_and)).count()"
   ]
  },
  {
   "cell_type": "code",
   "execution_count": 68,
   "id": "625503ab",
   "metadata": {},
   "outputs": [],
   "source": [
    "data_or = {\n",
    "    'filter' : [\n",
    "        {\n",
    "            'name' : 'open',\n",
    "            'comparisonType' : '>',\n",
    "            'value' : 140\n",
    "        },\n",
    "        {\n",
    "            'name' : 'volume',\n",
    "            'comparisonType' : '<',\n",
    "            'value' : 300\n",
    "        }\n",
    "    ],\n",
    "    'matchAll' : False\n",
    "}"
   ]
  },
  {
   "cell_type": "code",
   "execution_count": 71,
   "id": "22b3a2a2",
   "metadata": {},
   "outputs": [
    {
     "data": {
      "text/plain": [
       "64"
      ]
     },
     "execution_count": 71,
     "metadata": {},
     "output_type": "execute_result"
    }
   ],
   "source": [
    "df.filter(MutliFilters(data_or)).count()"
   ]
  },
  {
   "cell_type": "code",
   "execution_count": null,
   "id": "7f0c0f23",
   "metadata": {},
   "outputs": [],
   "source": []
  }
 ],
 "metadata": {
  "kernelspec": {
   "display_name": "Python 3 (ipykernel)",
   "language": "python",
   "name": "python3"
  },
  "language_info": {
   "codemirror_mode": {
    "name": "ipython",
    "version": 3
   },
   "file_extension": ".py",
   "mimetype": "text/x-python",
   "name": "python",
   "nbconvert_exporter": "python",
   "pygments_lexer": "ipython3",
   "version": "3.8.3"
  }
 },
 "nbformat": 4,
 "nbformat_minor": 5
}
